{
 "cells": [
  {
   "cell_type": "code",
   "execution_count": 14,
   "metadata": {},
   "outputs": [],
   "source": [
    "import random"
   ]
  },
  {
   "cell_type": "code",
   "execution_count": 10,
   "metadata": {},
   "outputs": [],
   "source": [
    "    \n",
    "def get_names():\n",
    "    name_shortlist = []\n",
    "    print('Please enter the names you want the generator to consider')\n",
    "    name_input = input().split()\n",
    "\n",
    "    for i in name_input:\n",
    "        name_shortlist.append(i)\n",
    "    \n",
    "    print (len(name_shortlist))\n",
    "\n",
    "    print('these are the names you have entered:')\n",
    "    return name_shortlist \n"
   ]
  },
  {
   "cell_type": "code",
   "execution_count": null,
   "metadata": {},
   "outputs": [],
   "source": []
  },
  {
   "cell_type": "code",
   "execution_count": 26,
   "metadata": {},
   "outputs": [],
   "source": [
    "def get_num_names():\n",
    "    names = get_names()\n",
    "\n",
    "    while True:\n",
    "        print('How many names do you want from the shortlist')\n",
    "        num_names =int(input())\n",
    "\n",
    "        if num_names > len(names):\n",
    "            print('not enough names in shortlist')\n",
    "            continue\n",
    "        \n",
    "        elif num_names < 0:\n",
    "            print('number must be a positive number')\n",
    "            continue\n",
    "\n",
    "        else:\n",
    "            print(random.sample(names, num_names))\n",
    "\n",
    "        break"
   ]
  },
  {
   "cell_type": "code",
   "execution_count": 27,
   "metadata": {},
   "outputs": [
    {
     "name": "stdout",
     "output_type": "stream",
     "text": [
      "Please enter the names you want the generator to consider\n",
      "5\n",
      "these are the names you have entered:\n",
      "How many names do you want from the shortlist\n",
      "['bony', 'andy', 'andam']\n"
     ]
    }
   ],
   "source": [
    "names = get_num_names()"
   ]
  },
  {
   "cell_type": "code",
   "execution_count": null,
   "metadata": {},
   "outputs": [],
   "source": []
  }
 ],
 "metadata": {
  "kernelspec": {
   "display_name": "Python 3",
   "language": "python",
   "name": "python3"
  },
  "language_info": {
   "codemirror_mode": {
    "name": "ipython",
    "version": 3
   },
   "file_extension": ".py",
   "mimetype": "text/x-python",
   "name": "python",
   "nbconvert_exporter": "python",
   "pygments_lexer": "ipython3",
   "version": "3.11.1"
  },
  "orig_nbformat": 4,
  "vscode": {
   "interpreter": {
    "hash": "116978628866d409fa06db4752589a92c5690598b9f00763171aa2deb515134e"
   }
  }
 },
 "nbformat": 4,
 "nbformat_minor": 2
}
