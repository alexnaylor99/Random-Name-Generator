{
 "cells": [
  {
   "cell_type": "code",
   "execution_count": 27,
   "metadata": {},
   "outputs": [],
   "source": [
    "\"\"\"Importing the random module\"\"\"\n",
    "import random"
   ]
  },
  {
   "cell_type": "code",
   "execution_count": 28,
   "metadata": {},
   "outputs": [
    {
     "name": "stdout",
     "output_type": "stream",
     "text": [
      "Valid Input!! Can proceed\n"
     ]
    }
   ],
   "source": [
    "\"\"\" A user-defined function to validate the input\n",
    "If the input is a string, it parses the check\n",
    "Else it print an error message\"\"\"\n",
    "\n",
    "def input_valid(input_string):\n",
    "    if input_string.isdigit():\n",
    "        print(\"Not a valid input\")\n",
    "    else:\n",
    "        print(\"Valid Input!! Can proceed\")\n",
    "        \n",
    "\"\"\"Seeking input using the input()\"\"\"\n",
    "\n",
    "input_names = input(\"Enter the names with a single space in between\")\n",
    "\n",
    "\"\"\"Calling the function\"\"\"\n",
    "\n",
    "input_valid(input_names)"
   ]
  },
  {
   "cell_type": "code",
   "execution_count": 29,
   "metadata": {},
   "outputs": [
    {
     "name": "stdout",
     "output_type": "stream",
     "text": [
      "The sample space of names are: ['Adam', 'Wadir', 'Zainu', 'Jhanavi', 'Tom', 'Boney', 'Luca', 'Ahmed']\n"
     ]
    }
   ],
   "source": [
    "\"\"\"Converting the string to a list by splitting the string at spaces\"\"\"\n",
    "\n",
    "list_names= input_names.split(\" \")\n",
    "print(\"The sample space of names are:\",list_names)"
   ]
  },
  {
   "cell_type": "code",
   "execution_count": 30,
   "metadata": {},
   "outputs": [
    {
     "name": "stdout",
     "output_type": "stream",
     "text": [
      "The randomly selected names are: ['Wadir', 'Luca', 'Zainu', 'Tom', 'Ahmed']\n"
     ]
    }
   ],
   "source": [
    "\"\"\" Finding the length of the list so that user does not exceed the sample space\"\"\" \n",
    "length=len(list_names)\n",
    "\n",
    "\"\"\" User defined function to  randomly choose from the list\n",
    "Checks if the number inputted by the user is positive\n",
    "Randomly selects names using the random()\n",
    "If the number is negative, it prints an error message \"\"\" \n",
    "\n",
    "def rand_choice():\n",
    "    number_names= input(\"How many names do you want to select\")\n",
    "    number_names=int(number_names)\n",
    "    if(number_names>0):\n",
    "        if(number_names<=length):\n",
    "            final_list=random.sample(list_names,k=number_names)\n",
    "            print(\"The randomly selected names are:\",final_list)\n",
    "        else:\n",
    "            print(\"Oops!! The number exceeds the sample space.\")\n",
    "    else:\n",
    "        print(\" Input Error!!Please enter a positive number and try again!!\")\n",
    "rand_choice()"
   ]
  },
  {
   "cell_type": "code",
   "execution_count": null,
   "metadata": {},
   "outputs": [],
   "source": []
  }
 ],
 "metadata": {
  "kernelspec": {
   "display_name": "base",
   "language": "python",
   "name": "python3"
  },
  "language_info": {
   "codemirror_mode": {
    "name": "ipython",
    "version": 3
   },
   "file_extension": ".py",
   "mimetype": "text/x-python",
   "name": "python",
   "nbconvert_exporter": "python",
   "pygments_lexer": "ipython3",
   "version": "3.9.12"
  },
  "orig_nbformat": 4,
  "vscode": {
   "interpreter": {
    "hash": "ad2bdc8ecc057115af97d19610ffacc2b4e99fae6737bb82f5d7fb13d2f2c186"
   }
  }
 },
 "nbformat": 4,
 "nbformat_minor": 2
}
